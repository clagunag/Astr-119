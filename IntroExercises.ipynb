{
 "cells": [
  {
   "cell_type": "markdown",
   "metadata": {},
   "source": [
    "# Python Exercises\n",
    "\n",
    "The following exercises range in difficulty, with some taking more time and thought than others.  For most of these exercises, you'll be asked to fill in the body of a function.  This function will then be tested in the code cell below the function definition using python's `assert` statement.  If running the test cell produces any errors, see which test case has broken your code and see if you can fix it."
   ]
  },
  {
   "cell_type": "markdown",
   "metadata": {},
   "source": [
    "## Absolute Value\n",
    "\n",
    "Python already implements the absolute value function as a builtin function, `abs()`.  Let's write our own version!"
   ]
  },
  {
   "cell_type": "code",
   "execution_count": null,
   "metadata": {},
   "outputs": [],
   "source": [
    "def my_abs(x):\n",
    "    \"\"\"\n",
    "    Calculates the absolute value of the input.\n",
    "    \n",
    "    Parameters\n",
    "    ----------\n",
    "    x : float\n",
    "    \n",
    "    Returns\n",
    "    -------\n",
    "    a : float, absolute value of x\n",
    "    \"\"\"\n",
    "    # fill in your code here"
   ]
  },
  {
   "cell_type": "code",
   "execution_count": null,
   "metadata": {},
   "outputs": [],
   "source": [
    "x = 1\n",
    "assert abs(x) == my_abs(x)\n",
    "\n",
    "x = -1\n",
    "assert abs(x) == my_abs(x)\n",
    "\n",
    "x = 1.2\n",
    "assert abs(x) == my_abs(x)\n",
    "\n",
    "x = -124.3245\n",
    "assert abs(x) == my_abs(x)"
   ]
  },
  {
   "cell_type": "markdown",
   "metadata": {},
   "source": [
    "## Remainder\n",
    "\n",
    "Write a program that calculates the remainder of the division of one number by another.  This is already done with the builtin modulo operator, `%`, but you should implement your own version!"
   ]
  },
  {
   "cell_type": "code",
   "execution_count": 7,
   "metadata": {},
   "outputs": [
    {
     "ename": "SyntaxError",
     "evalue": "invalid syntax (<ipython-input-7-c7d73aea1432>, line 16)",
     "output_type": "error",
     "traceback": [
      "\u001b[0;36m  File \u001b[0;32m\"<ipython-input-7-c7d73aea1432>\"\u001b[0;36m, line \u001b[0;32m16\u001b[0m\n\u001b[0;31m    while x + divisor < dividend\u001b[0m\n\u001b[0m                                ^\u001b[0m\n\u001b[0;31mSyntaxError\u001b[0m\u001b[0;31m:\u001b[0m invalid syntax\n"
     ]
    }
   ],
   "source": [
    "def remainder(dividend, divisor):\n",
    "    \"\"\"\n",
    "    Calculate the remainder of the division of dividend by divisor.\n",
    "    \n",
    "    Parameters\n",
    "    ----------\n",
    "    dividend : int, the numerator\n",
    "    divisor : int, the denominator\n",
    "    \n",
    "    Returns\n",
    "    -------\n",
    "    rem : int, the remainder\n",
    "    \"\"\"\n",
    "    # fill in your code here\n",
    "    x=divisor\n",
    "    while x + divisor < dividend\n",
    "        x = x + divisor\n",
    "    rem = dividend - x"
   ]
  },
  {
   "cell_type": "code",
   "execution_count": null,
   "metadata": {},
   "outputs": [],
   "source": [
    "# remainder test cases\n",
    "\n",
    "a = 5\n",
    "b = 3\n",
    "assert remainder(a, b) == a % b\n",
    "\n",
    "a = 12\n",
    "b = 6\n",
    "assert remainder(a, b) == a % b\n",
    "\n",
    "a = 23\n",
    "b = 15\n",
    "assert remainder(a, b) == a % b"
   ]
  },
  {
   "cell_type": "markdown",
   "metadata": {},
   "source": [
    "## Project Euler \\# 1\n",
    "\n",
    "[Project Euler](https://projecteuler.net/about) provides a series of computational programming challenges.  Let's look at the first one.\n",
    "\n",
    "If we list all the natural numbers below 10 that are multiples of 3 or 5, we get 3, 5, 6 and 9. The sum of these multiples is 23.\n",
    "\n",
    "Find the sum of all the multiples of 3 or 5 below 1000.  The answer should be 233168."
   ]
  },
  {
   "cell_type": "code",
   "execution_count": null,
   "metadata": {},
   "outputs": [],
   "source": []
  },
  {
   "cell_type": "markdown",
   "metadata": {},
   "source": [
    "## List of lists\n",
    "\n",
    "Suppose you have a list of lists of numbers.  Write a program that returns the list that contains the largest number.  For example, suppose the list of lists is\n",
    "\n",
    "\\[ \\[0, 1, -25, 3\\], \\[1, 1, 4\\], \\[-2, 1\\] \\]\n",
    "\n",
    "Then your program should return the second list, \\[1, 1, 4\\]."
   ]
  },
  {
   "cell_type": "code",
   "execution_count": 20,
   "metadata": {},
   "outputs": [
    {
     "ename": "SyntaxError",
     "evalue": "invalid syntax (<ipython-input-20-4558840171d7>, line 14)",
     "output_type": "error",
     "traceback": [
      "\u001b[0;36m  File \u001b[0;32m\"<ipython-input-20-4558840171d7>\"\u001b[0;36m, line \u001b[0;32m14\u001b[0m\n\u001b[0;31m    def largest_list ((1,2)(23,4))\u001b[0m\n\u001b[0m                      ^\u001b[0m\n\u001b[0;31mSyntaxError\u001b[0m\u001b[0;31m:\u001b[0m invalid syntax\n"
     ]
    }
   ],
   "source": [
    "def largest_list(list_of_lists):\n",
    "    \"\"\"\n",
    "    Find the largest element in a list of lists, and return the inner list.\n",
    "    \n",
    "    Parameters\n",
    "    ----------\n",
    "    list_of_lists : a list containing lists of floats\n",
    "    \n",
    "    Returns\n",
    "    -------\n",
    "    max_list : a list of floats\n",
    "    \"\"\"\n",
    "    # fill in your code here\n",
    "def largest_list(list_of_list)"
   ]
  },
  {
   "cell_type": "code",
   "execution_count": 1,
   "metadata": {},
   "outputs": [
    {
     "ename": "NameError",
     "evalue": "name 'largest_list' is not defined",
     "output_type": "error",
     "traceback": [
      "\u001b[0;31m---------------------------------------------------------------------------\u001b[0m",
      "\u001b[0;31mNameError\u001b[0m                                 Traceback (most recent call last)",
      "\u001b[0;32m<ipython-input-1-32a58982d996>\u001b[0m in \u001b[0;36m<module>\u001b[0;34m()\u001b[0m\n\u001b[1;32m      1\u001b[0m \u001b[0ma\u001b[0m \u001b[0;34m=\u001b[0m \u001b[0;34m[\u001b[0m\u001b[0;34m[\u001b[0m\u001b[0;36m1\u001b[0m\u001b[0;34m,\u001b[0m \u001b[0;36m2\u001b[0m\u001b[0;34m,\u001b[0m \u001b[0;36m3\u001b[0m\u001b[0;34m]\u001b[0m\u001b[0;34m,\u001b[0m \u001b[0;34m[\u001b[0m\u001b[0;36m2\u001b[0m\u001b[0;34m,\u001b[0m \u001b[0;36m3\u001b[0m\u001b[0;34m,\u001b[0m \u001b[0;36m4\u001b[0m\u001b[0;34m]\u001b[0m\u001b[0;34m]\u001b[0m\u001b[0;34m\u001b[0m\u001b[0m\n\u001b[0;32m----> 2\u001b[0;31m \u001b[0;32massert\u001b[0m \u001b[0mlargest_list\u001b[0m\u001b[0;34m(\u001b[0m\u001b[0ma\u001b[0m\u001b[0;34m)\u001b[0m \u001b[0;34m==\u001b[0m \u001b[0ma\u001b[0m\u001b[0;34m[\u001b[0m\u001b[0;36m1\u001b[0m\u001b[0;34m]\u001b[0m\u001b[0;34m\u001b[0m\u001b[0m\n\u001b[0m\u001b[1;32m      3\u001b[0m \u001b[0;34m\u001b[0m\u001b[0m\n\u001b[1;32m      4\u001b[0m \u001b[0mb\u001b[0m \u001b[0;34m=\u001b[0m \u001b[0;34m[\u001b[0m\u001b[0;34m[\u001b[0m\u001b[0;36m7\u001b[0m\u001b[0;34m,\u001b[0m\u001b[0;36m2\u001b[0m\u001b[0;34m,\u001b[0m\u001b[0;36m7\u001b[0m\u001b[0;34m,\u001b[0m\u001b[0;36m8\u001b[0m\u001b[0;34m]\u001b[0m\u001b[0;34m,\u001b[0m \u001b[0;34m[\u001b[0m\u001b[0;36m5\u001b[0m\u001b[0;34m,\u001b[0m\u001b[0;36m7\u001b[0m\u001b[0;34m,\u001b[0m\u001b[0;36m8\u001b[0m\u001b[0;34m,\u001b[0m\u001b[0;36m9\u001b[0m\u001b[0;34m,\u001b[0m\u001b[0;36m0\u001b[0m\u001b[0;34m,\u001b[0m\u001b[0;36m3\u001b[0m\u001b[0;34m,\u001b[0m\u001b[0;36m6\u001b[0m\u001b[0;34m]\u001b[0m\u001b[0;34m,\u001b[0m \u001b[0;34m[\u001b[0m\u001b[0;36m3\u001b[0m\u001b[0;34m,\u001b[0m\u001b[0;36m2\u001b[0m\u001b[0;34m,\u001b[0m\u001b[0;36m5\u001b[0m\u001b[0;34m,\u001b[0m\u001b[0;36m2\u001b[0m\u001b[0;34m,\u001b[0m\u001b[0;36m6\u001b[0m\u001b[0;34m]\u001b[0m\u001b[0;34m]\u001b[0m\u001b[0;34m\u001b[0m\u001b[0m\n\u001b[1;32m      5\u001b[0m \u001b[0;32massert\u001b[0m \u001b[0mlargest_list\u001b[0m\u001b[0;34m(\u001b[0m\u001b[0mb\u001b[0m\u001b[0;34m)\u001b[0m \u001b[0;34m==\u001b[0m \u001b[0mb\u001b[0m\u001b[0;34m[\u001b[0m\u001b[0;36m1\u001b[0m\u001b[0;34m]\u001b[0m\u001b[0;34m\u001b[0m\u001b[0m\n",
      "\u001b[0;31mNameError\u001b[0m: name 'largest_list' is not defined"
     ]
    }
   ],
   "source": [
    "a = [[1, 2, 3], [2, 3, 4]]\n",
    "assert largest_list(a) == a[1]\n",
    "\n",
    "b = [[7,2,7,8], [5,7,8,9,0,3,6], [3,2,5,2,6]]\n",
    "assert largest_list(b) == b[1]\n",
    "\n",
    "c = [[2345, 43, 3245], [21,4,6,-8,6], [0]]\n",
    "assert largest_list(c) == c[0]\n",
    "\n",
    "d = [[1], [-2345, 43], [76453, 345, 76]]\n",
    "assert largest_list(d) == d[2]"
   ]
  },
  {
   "cell_type": "markdown",
   "metadata": {},
   "source": [
    "## Fibonacci Sequence\n",
    "\n",
    "The Fibonacci sequence (1, 1, 2, 3, 5, 8, 13...) satisfy the property that the $n$-th entry in the sequence is equal to the sum of the previous two entries in the sequence.  Fill in the function below which takes as input the index into the sequence and returns as output the value of that entry.  \n",
    "\n",
    "If what you write is correct, then `fib(0) = 1`, `fib(1) = 1`, and `fib(6) = 13`."
   ]
  },
  {
   "cell_type": "code",
   "execution_count": null,
   "metadata": {
    "ExecuteTime": {
     "end_time": "2018-01-17T20:18:22.733235Z",
     "start_time": "2018-01-17T20:18:22.720990Z"
    }
   },
   "outputs": [],
   "source": [
    "def fib(n):\n",
    "    \"\"\"\n",
    "    Calculate the Fibonacci sequence at index n.\n",
    "    \n",
    "    Parameters\n",
    "    ----------\n",
    "    n : int, index into the sequence\n",
    "    \n",
    "    Returns\n",
    "    -------\n",
    "    x : int, value of the sequence at index n\n",
    "    \"\"\"\n",
    "    # fill in your code here"
   ]
  },
  {
   "cell_type": "code",
   "execution_count": null,
   "metadata": {},
   "outputs": [],
   "source": [
    "# fibonacci test cases\n",
    "assert fib(2) == 2\n",
    "assert fib(4) == 5\n",
    "assert fib(5) == 8\n",
    "assert fib(6) == 13"
   ]
  },
  {
   "cell_type": "markdown",
   "metadata": {},
   "source": [
    "## Close enough\n",
    "\n",
    "Write a function that takes as input a number and a list of numbers, then returns the index of the list for which the entry of the list is closest to that number.  For example, if the number is `4` and the list is `[1, 2, 5]`, the function should return `2`, since the entry at index 2 (with value 5) is closest to 4.\n",
    "\n",
    "You may find it useful to use the built-in function, `abs()`, which calculates the absolute value of a number."
   ]
  },
  {
   "cell_type": "code",
   "execution_count": null,
   "metadata": {
    "ExecuteTime": {
     "end_time": "2018-01-17T20:19:05.156713Z",
     "start_time": "2018-01-17T20:19:05.144746Z"
    }
   },
   "outputs": [],
   "source": [
    "def index_of_closest(x, values):\n",
    "    \"\"\"\n",
    "    Find the index (into the list, values) of the entry which is closest to x.\n",
    "    \n",
    "    Parameters\n",
    "    ----------\n",
    "    x : float\n",
    "    values : list of floats\n",
    "    \n",
    "    Returns\n",
    "    -------\n",
    "    i : int, index into values\n",
    "    \"\"\"\n",
    "    # fill in your code here"
   ]
  },
  {
   "cell_type": "code",
   "execution_count": null,
   "metadata": {},
   "outputs": [],
   "source": [
    "# index_of_closest test cases\n",
    "\n",
    "values = [0, 1, 2, 3, 4, 5]\n",
    "\n",
    "assert index_of_closest(1.1, values) == 1\n",
    "assert index_of_closest(7, values) == 5\n",
    "assert index_of_closest(2.9, values) == 3"
   ]
  }
 ],
 "metadata": {
  "kernelspec": {
   "display_name": "Python 3",
   "language": "python",
   "name": "python3"
  },
  "language_info": {
   "codemirror_mode": {
    "name": "ipython",
    "version": 3
   },
   "file_extension": ".py",
   "mimetype": "text/x-python",
   "name": "python",
   "nbconvert_exporter": "python",
   "pygments_lexer": "ipython3",
   "version": "3.7.1"
  }
 },
 "nbformat": 4,
 "nbformat_minor": 2
}
